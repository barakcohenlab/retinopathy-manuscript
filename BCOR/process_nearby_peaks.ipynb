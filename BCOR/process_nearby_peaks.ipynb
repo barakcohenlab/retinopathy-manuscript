{
 "cells": [
  {
   "cell_type": "code",
   "execution_count": null,
   "id": "25ea3692-4149-4e38-8cd9-03aed3015414",
   "metadata": {
    "tags": []
   },
   "outputs": [],
   "source": [
    "import polars"
   ]
  },
  {
   "cell_type": "code",
   "execution_count": null,
   "id": "120f6202-1fed-4bd6-8ff7-f774ef1edeef",
   "metadata": {
    "tags": []
   },
   "outputs": [],
   "source": [
    "nearby_adult_peaks = polars.read_csv(\"CRX_chip_peaks_near_BCOR.Adult.tsv\", sep=\"\\t\").groupby([\"chip_peak_id\"]).count()\n",
    "\n",
    "nearby_p0_peaks = polars.read_csv(\"CRX_chip_peaks_near_BCOR.P0.tsv\", sep=\"\\t\").groupby([\"chip_peak_id\"]).count()"
   ]
  },
  {
   "cell_type": "code",
   "execution_count": null,
   "id": "00527281-17a6-46cc-8baf-b6972e5d4063",
   "metadata": {
    "tags": []
   },
   "outputs": [],
   "source": [
    "chip_peak_metadata = polars.read_csv(\"../Library_Details/chip_peak_metadata.tsv\", sep=\"\\t\")"
   ]
  },
  {
   "cell_type": "code",
   "execution_count": null,
   "id": "fb94ccc3-4490-4906-90d2-df5521356089",
   "metadata": {
    "tags": []
   },
   "outputs": [],
   "source": [
    "chip_peak_metadata.join(nearby_adult_peaks, how=\"left\", on=\"chip_peak_id\").select([\n",
    "    \"chip_peak_id\",\n",
    "    polars.col(\"count\").fill_null(0).alias(\"nearby_BCOR_in_adult\")\n",
    "]).join(nearby_p0_peaks, how=\"left\", on=\"chip_peak_id\").select([\n",
    "    \"chip_peak_id\",\n",
    "    \"nearby_BCOR_in_adult\",\n",
    "    polars.col(\"count\").fill_null(0).alias(\"nearby_BCOR_in_P0\")\n",
    "]).write_csv(\"CRX_BCOR_overlap.tsv\", sep=\"\\t\")"
   ]
  },
  {
   "cell_type": "code",
   "execution_count": null,
   "id": "bceba349-749e-43bf-b3b5-382c89de89cb",
   "metadata": {},
   "outputs": [],
   "source": []
  }
 ],
 "metadata": {
  "kernelspec": {
   "display_name": "Python 3 (ipykernel)",
   "language": "python",
   "name": "python3"
  },
  "language_info": {
   "codemirror_mode": {
    "name": "ipython",
    "version": 3
   },
   "file_extension": ".py",
   "mimetype": "text/x-python",
   "name": "python",
   "nbconvert_exporter": "python",
   "pygments_lexer": "ipython3",
   "version": "3.11.0"
  }
 },
 "nbformat": 4,
 "nbformat_minor": 5
}
